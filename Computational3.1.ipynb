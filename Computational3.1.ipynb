{
 "cells": [
  {
   "cell_type": "markdown",
   "id": "2c2a2d9b-d547-4877-856b-c5a650292e79",
   "metadata": {},
   "source": [
    "Modeling the logistic equation\n",
    "\n",
    "$$\\frac{N(t+\\Delta t)-N(t)}{\\Delta t} \\approx f(N,t)\n",
    "$$\n",
    "\n",
    "Writing $LaTeX$ on your own: as an editor, I recommend [Overleaf](http://overleaf.com). To edit equations, I recommend [Codeogs](https://latex.codecogs.com/eqneditor/editor.php)."
   ]
  },
  {
   "cell_type": "code",
   "execution_count": 1,
   "id": "4853d166-e519-467a-9199-c1ef5b98171a",
   "metadata": {},
   "outputs": [],
   "source": [
    "from matplotlib import pyplot as plt\n",
    "import numpy as np"
   ]
  },
  {
   "cell_type": "code",
   "execution_count": 8,
   "id": "fe89e1fa-ef64-4195-bb81-e0bb9122768e",
   "metadata": {},
   "outputs": [
    {
     "data": {
      "text/plain": [
       "[<matplotlib.lines.Line2D at 0x1160d2aa0>]"
      ]
     },
     "execution_count": 8,
     "metadata": {},
     "output_type": "execute_result"
    },
    {
     "data": {
      "image/png": "[encoded data removed]",
      "text/plain": [
       "<Figure size 640x480 with 1 Axes>"
      ]
     },
     "metadata": {},
     "output_type": "display_data"
    }
   ],
   "source": [
    "dt = 0.001\n",
    "N = 0.001\n",
    "T0 = 0\n",
    "r = 1\n",
    "K = 1\n",
    "Ns = [N]\n",
    "Ts = [T0]\n",
    "t=T0\n",
    "tfinal = 15\n",
    "numsteps = int(tfinal/dt)\n",
    "for i in range(1,numsteps):\n",
    "    nextN = N + r*N*(1-N/K)*dt\n",
    "    N = nextN\n",
    "    Ns.append(nextN)\n",
    "    Ts.append(t)\n",
    "    t = t+dt\n",
    "plt.plot(Ts,Ns)"
   ]
  },
  {
   "cell_type": "code",
   "execution_count": 10,
   "id": "018c3723-790a-45b5-9b41-3e67bf37d360",
   "metadata": {},
   "outputs": [],
   "source": [
    "from ipywidgets import widgets, interact, interact_manual"
   ]
  },
  {
   "cell_type": "code",
   "execution_count": 22,
   "id": "0e221231-d07a-4ca1-8f4d-6aabf1330f94",
   "metadata": {},
   "outputs": [
    {
     "data": {
      "application/vnd.jupyter.widget-view+json": {
       "model_id": "9fc3b3bb6f0348aca3418d6f3edc5d7e",
       "version_major": 2,
       "version_minor": 0
      },
      "text/plain": [
       "interactive(children=(FloatSlider(value=0.001, description='dt', max=1.0, min=0.001, step=0.001), FloatSlider(…"
      ]
     },
     "metadata": {},
     "output_type": "display_data"
    },
    {
     "data": {
      "text/plain": [
       "<function __main__.plot_logistic(dt=0.001, N=0.001, T0=0.1, r=1.0, K=1)>"
      ]
     },
     "execution_count": 22,
     "metadata": {},
     "output_type": "execute_result"
    }
   ],
   "source": [
    "def plot_logistic(\n",
    "    dt = 0.001,\n",
    "    N = 0.001,\n",
    "    T0 = 0.1,\n",
    "    r = 1.0,\n",
    "    K = 1,\n",
    "):\n",
    "    Ns = [N]\n",
    "    Ts = [T0]\n",
    "    t=T0\n",
    "    tfinal = 15\n",
    "    numsteps = int(tfinal/dt)\n",
    "    for i in range(1,numsteps):\n",
    "        nextN = N + r*N*(1-N/K)*dt\n",
    "        N = nextN\n",
    "        Ns.append(nextN)\n",
    "        Ts.append(t)\n",
    "        t = t+dt\n",
    "    plt.plot(Ts,Ns)\n",
    "interact(plot_logistic,\n",
    "        dt=widgets.FloatSlider(value=0.001, min=0.001, max=1,step=0.001),\n",
    "        N=widgets.FloatSlider(value=0.001, min=0.001, max=2.5,step=0.001),\n",
    "        )"
   ]
  },
  {
   "cell_type": "code",
   "execution_count": 23,
   "id": "5b2148f5-cef4-478e-9b71-a454838c263c",
   "metadata": {},
   "outputs": [
    {
     "data": {
      "application/vnd.jupyter.widget-view+json": {
       "model_id": "b320c6d401604dcf982dc779f7496dca",
       "version_major": 2,
       "version_minor": 0
      },
      "text/plain": [
       "interactive(children=(FloatSlider(value=0.001, description='dt', max=1.0, min=0.001, step=0.001), FloatSlider(…"
      ]
     },
     "metadata": {},
     "output_type": "display_data"
    },
    {
     "data": {
      "text/plain": [
       "<function __main__.plot_logistic(dt=0.001, N=0.001, T0=0.1, r=1.0, K=1)>"
      ]
     },
     "execution_count": 23,
     "metadata": {},
     "output_type": "execute_result"
    }
   ],
   "source": [
    "interact_manual(plot_logistic,\n",
    "        dt=widgets.FloatSlider(value=0.001, min=0.001, max=1,step=0.001),\n",
    "        N=widgets.FloatSlider(value=0.001, min=0.001, max=2.5,step=0.001),\n",
    "        )"
   ]
  },
  {
   "cell_type": "code",
   "execution_count": null,
   "id": "3ad16644-3450-44ed-8c94-c3a5640ec0a0",
   "metadata": {},
   "outputs": [],
   "source": []
  }
 ],
 "metadata": {
  "kernelspec": {
   "display_name": "Python 3 (ipykernel)",
   "language": "python",
   "name": "python3"
  },
  "language_info": {
   "codemirror_mode": {
    "name": "ipython",
    "version": 3
   },
   "file_extension": ".py",
   "mimetype": "text/x-python",
   "name": "python",
   "nbconvert_exporter": "python",
   "pygments_lexer": "ipython3",
   "version": "3.10.10"
  }
 },
 "nbformat": 4,
 "nbformat_minor": 5
}
